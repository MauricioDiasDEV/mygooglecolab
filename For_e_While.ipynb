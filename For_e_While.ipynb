{
  "nbformat": 4,
  "nbformat_minor": 0,
  "metadata": {
    "colab": {
      "name": "For e While.ipynb",
      "provenance": [],
      "collapsed_sections": [],
      "authorship_tag": "ABX9TyPLS3yN6tS6vdXnW8FOqsd2",
      "include_colab_link": true
    },
    "kernelspec": {
      "display_name": "Python 3",
      "name": "python3"
    }
  },
  "cells": [
    {
      "cell_type": "markdown",
      "metadata": {
        "id": "view-in-github",
        "colab_type": "text"
      },
      "source": [
        "<a href=\"https://colab.research.google.com/github/MauricioDiasDEV/mygooglecolab/blob/main/For_e_While.ipynb\" target=\"_parent\"><img src=\"https://colab.research.google.com/assets/colab-badge.svg\" alt=\"Open In Colab\"/></a>"
      ]
    },
    {
      "cell_type": "markdown",
      "metadata": {
        "id": "TKm34-lfSkex"
      },
      "source": [
        "# ***Trabalhando com For e While***"
      ]
    },
    {
      "cell_type": "markdown",
      "metadata": {
        "id": "0KVn7yCZS3hB"
      },
      "source": [
        "***For***"
      ]
    },
    {
      "cell_type": "code",
      "metadata": {
        "id": "00E2A9uCS6g1",
        "outputId": "df296ef7-07be-43c0-f37d-1c6b2a5123db",
        "colab": {
          "base_uri": "https://localhost:8080/",
          "height": 85
        }
      },
      "source": [
        "# O For e While são laços de repetição.\n",
        "# Usamos quando queremos fazer uma tarefa seguidas vezes.\n",
        "# Podemos usar o for com as listas, para contar os valores dentro dela. \n",
        "\n",
        "cestaDeFrutas = ['banana','uva','maça','melancia']\n",
        "\n",
        "for x in cestaDeFrutas:\n",
        "  print('Fruta: {} '.format(x))\n",
        "\n"
      ],
      "execution_count": null,
      "outputs": [
        {
          "output_type": "stream",
          "text": [
            "Fruta: banana \n",
            "Fruta: uva \n",
            "Fruta: maça \n",
            "Fruta: melancia \n"
          ],
          "name": "stdout"
        }
      ]
    },
    {
      "cell_type": "markdown",
      "metadata": {
        "id": "6lAV0EfLXJfy"
      },
      "source": [
        "***While***"
      ]
    },
    {
      "cell_type": "code",
      "metadata": {
        "id": "26K_MXXQWs-2",
        "outputId": "f098b957-dee5-4e71-e389-fc37dab05ced",
        "colab": {
          "base_uri": "https://localhost:8080/",
          "height": 85
        }
      },
      "source": [
        "# O while também é um laço de repetição que trabalha com a condição até que ela seja verdadeira.\n",
        "# Precisamos tomar cuidado com os laçoes de repetição, espcialmente com o while\n",
        "# Caso ele não tenha o  incremento ao final do código pode entra em loop infinito\n",
        "i = 1\n",
        "\n",
        "while i < 5:\n",
        "  print('i agora vale: {}'.format(i))\n",
        "  i = i + 1 # incremento usado"
      ],
      "execution_count": null,
      "outputs": [
        {
          "output_type": "stream",
          "text": [
            "i agora vale: 1\n",
            "i agora vale: 2\n",
            "i agora vale: 3\n",
            "i agora vale: 4\n"
          ],
          "name": "stdout"
        }
      ]
    }
  ]
}