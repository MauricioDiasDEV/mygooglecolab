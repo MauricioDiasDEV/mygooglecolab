{
  "nbformat": 4,
  "nbformat_minor": 0,
  "metadata": {
    "colab": {
      "name": "Funções.ipynb",
      "provenance": [],
      "collapsed_sections": [],
      "authorship_tag": "ABX9TyNbF2JLBBeugPqTtWoDi0YU",
      "include_colab_link": true
    },
    "kernelspec": {
      "name": "python3",
      "display_name": "Python 3"
    }
  },
  "cells": [
    {
      "cell_type": "markdown",
      "metadata": {
        "id": "view-in-github",
        "colab_type": "text"
      },
      "source": [
        "<a href=\"https://colab.research.google.com/github/MauricioDiasDEV/mygooglecolab/blob/main/Fun%C3%A7%C3%B5es.ipynb\" target=\"_parent\"><img src=\"https://colab.research.google.com/assets/colab-badge.svg\" alt=\"Open In Colab\"/></a>"
      ]
    },
    {
      "cell_type": "code",
      "metadata": {
        "id": "ILzKnuFFatXS"
      },
      "source": [
        "# As funções criar pequenos trechos de códigos, com funções específicas\n",
        "# Onde podem ser aproveitadas em outros momentos dentro do programa\n",
        "# Ao definir uma função em Pyhton usamos a palavra reservado \"def\"\n",
        "\n",
        "# Criaremos uma função que calcula o valor de entrada por 3\n",
        "\n",
        "def multiplicaPorTres(x):\n",
        "  resultado = x * 3\n",
        "  print(\"O número \", x , \" multiplicado por 3 é: \" , resultado)\n"
      ],
      "execution_count": null,
      "outputs": []
    },
    {
      "cell_type": "code",
      "metadata": {
        "id": "yG3mr3_-cFi2",
        "outputId": "b8680296-1b17-45ea-abe9-eecd085028ee",
        "colab": {
          "base_uri": "https://localhost:8080/",
          "height": 34
        }
      },
      "source": [
        "# Depois de criada a função, a chamamos com seu nome e com o parâmetro desejado:\n",
        "\n",
        "multiplicaPorTres(3)"
      ],
      "execution_count": null,
      "outputs": [
        {
          "output_type": "stream",
          "text": [
            "O número  3  multiplicado por 3 é:  9\n"
          ],
          "name": "stdout"
        }
      ]
    },
    {
      "cell_type": "code",
      "metadata": {
        "id": "WSvqZwjTcICg",
        "outputId": "a24e8042-72fa-47ec-a38a-81f3f8cf20dc",
        "colab": {
          "base_uri": "https://localhost:8080/",
          "height": 34
        }
      },
      "source": [
        "multiplicaPorTres(5)"
      ],
      "execution_count": null,
      "outputs": [
        {
          "output_type": "stream",
          "text": [
            "O número  5  multiplicado por 3 é:  15\n"
          ],
          "name": "stdout"
        }
      ]
    }
  ]
}