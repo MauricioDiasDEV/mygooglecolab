{
  "nbformat": 4,
  "nbformat_minor": 0,
  "metadata": {
    "colab": {
      "name": "Lista, Indexação e Tuplas.ipynb",
      "provenance": [],
      "collapsed_sections": [],
      "authorship_tag": "ABX9TyMJV2t3jHQLSQSFNMcwPllf",
      "include_colab_link": true
    },
    "kernelspec": {
      "name": "python3",
      "display_name": "Python 3"
    }
  },
  "cells": [
    {
      "cell_type": "markdown",
      "metadata": {
        "id": "view-in-github",
        "colab_type": "text"
      },
      "source": [
        "<a href=\"https://colab.research.google.com/github/MauricioDiasDEV/mygooglecolab/blob/main/Lista%2C_Indexa%C3%A7%C3%A3o_e_Tuplas.ipynb\" target=\"_parent\"><img src=\"https://colab.research.google.com/assets/colab-badge.svg\" alt=\"Open In Colab\"/></a>"
      ]
    },
    {
      "cell_type": "markdown",
      "metadata": {
        "id": "Ol-l5WN61Mxa"
      },
      "source": [
        "# ***Trabalhando com Listas, Indexação, Tuplas e Dicionários***"
      ]
    },
    {
      "cell_type": "code",
      "metadata": {
        "id": "nnveAzaCyC0r",
        "outputId": "a3c808a1-ed41-474e-cbe1-cf23a2a742ce",
        "colab": {
          "base_uri": "https://localhost:8080/",
          "height": 34
        }
      },
      "source": [
        "# Listas são como arrays, vistas em outras linguagens de programação\n",
        "# Temos então:\n",
        "\n",
        "lista = [1, 2, 3, 4]\n",
        "print(lista)"
      ],
      "execution_count": null,
      "outputs": [
        {
          "output_type": "stream",
          "text": [
            "[1, 2, 3, 4]\n"
          ],
          "name": "stdout"
        }
      ]
    },
    {
      "cell_type": "code",
      "metadata": {
        "id": "kD3ooN3nyabX",
        "outputId": "9f2ad6e2-130a-4032-ff35-11979fb339e0",
        "colab": {
          "base_uri": "https://localhost:8080/",
          "height": 34
        }
      },
      "source": [
        "# Se quisermos trabalhar com cada elemento dentro da lista, podemos usar a indexação\n",
        "# Se quisermos retornar o valor 1, usaremos lista[0] que retornará o valor dentro desta posição\n",
        "\n",
        "print(lista[0])"
      ],
      "execution_count": null,
      "outputs": [
        {
          "output_type": "stream",
          "text": [
            "1\n"
          ],
          "name": "stdout"
        }
      ]
    },
    {
      "cell_type": "code",
      "metadata": {
        "id": "sDHXOwNpyrCR",
        "outputId": "6051a679-66c0-4aba-b41b-0adbedd65cbd",
        "colab": {
          "base_uri": "https://localhost:8080/",
          "height": 34
        }
      },
      "source": [
        "# Podemos trablahar com um intervalo dentro dessa lista:\n",
        "\n",
        "print(lista[1:3])"
      ],
      "execution_count": null,
      "outputs": [
        {
          "output_type": "stream",
          "text": [
            "[2, 3]\n"
          ],
          "name": "stdout"
        }
      ]
    },
    {
      "cell_type": "code",
      "metadata": {
        "id": "O7w-b3vszIIX",
        "outputId": "f771da07-7531-4a45-ce54-d295b93e2f58",
        "colab": {
          "base_uri": "https://localhost:8080/",
          "height": 34
        }
      },
      "source": [
        "# Podemos ter dentro da lista outras lista e ainda valores diferentes\n",
        "\n",
        "lista2 = [1,2,3,'Mauricio',[5,6,7]]\n",
        "\n",
        "print(lista2)"
      ],
      "execution_count": null,
      "outputs": [
        {
          "output_type": "stream",
          "text": [
            "[1, 2, 3, 'Mauricio', [5, 6, 7]]\n"
          ],
          "name": "stdout"
        }
      ]
    },
    {
      "cell_type": "code",
      "metadata": {
        "id": "GwDAoBdMzdQG",
        "outputId": "30457e86-8963-41d8-cc4f-85df10aa8128",
        "colab": {
          "base_uri": "https://localhost:8080/",
          "height": 51
        }
      },
      "source": [
        "# Podemo então pegar valores isolados dentro desta lista, como no exemplo acima:\n",
        "\n",
        "print(lista2[2]) # valor isolado\n",
        "print(lista2[4][1]) # conteúdo do valor da lista dentro da lista2"
      ],
      "execution_count": null,
      "outputs": [
        {
          "output_type": "stream",
          "text": [
            "3\n",
            "6\n"
          ],
          "name": "stdout"
        }
      ]
    },
    {
      "cell_type": "code",
      "metadata": {
        "id": "fOOYX6o711V8",
        "outputId": "6831b44c-787e-4105-faab-6d7c777dd2d8",
        "colab": {
          "base_uri": "https://localhost:8080/",
          "height": 34
        }
      },
      "source": [
        "# Podemos também adicionar elementos nessa lista\n",
        "\n",
        "lista2.append('Edite')\n",
        "print(lista2)"
      ],
      "execution_count": null,
      "outputs": [
        {
          "output_type": "stream",
          "text": [
            "[1, 2, 3, 'Mauricio', [5, 6, 7], 'Edite']\n"
          ],
          "name": "stdout"
        }
      ]
    },
    {
      "cell_type": "markdown",
      "metadata": {
        "id": "R-HQBml30_8C"
      },
      "source": [
        "# ***Tuplas***"
      ]
    },
    {
      "cell_type": "code",
      "metadata": {
        "id": "64NOwourzwqG",
        "outputId": "6fbf16c8-d753-496c-a615-748d657e115a",
        "colab": {
          "base_uri": "https://localhost:8080/",
          "height": 34
        }
      },
      "source": [
        "# Muito semelhante as listas\n",
        "# Acessamos da mesma maneira\n",
        "# Não pode ter seu conteúdo alterado\n",
        "# Inicia com parêntese\n",
        "\n",
        "\n",
        "tupla = (2, 5, 7)\n",
        "print(tupla)"
      ],
      "execution_count": null,
      "outputs": [
        {
          "output_type": "stream",
          "text": [
            "(2, 5, 7)\n"
          ],
          "name": "stdout"
        }
      ]
    },
    {
      "cell_type": "code",
      "metadata": {
        "id": "n5x8X36M2Xlu",
        "outputId": "f69ab97f-1b70-474a-bbe8-24013aa60127",
        "colab": {
          "base_uri": "https://localhost:8080/",
          "height": 34
        }
      },
      "source": [
        "# Acessando os valores dentro da tupla\n",
        "\n",
        "print(tupla[1])"
      ],
      "execution_count": null,
      "outputs": [
        {
          "output_type": "stream",
          "text": [
            "5\n"
          ],
          "name": "stdout"
        }
      ]
    },
    {
      "cell_type": "markdown",
      "metadata": {
        "id": "al2XwrZF3SK2"
      },
      "source": [
        "# ***Dicionários***"
      ]
    },
    {
      "cell_type": "code",
      "metadata": {
        "id": "ngkn8FsF3uYz",
        "outputId": "7fecf131-6660-41ff-e0b2-af3af2d1d2fd",
        "colab": {
          "base_uri": "https://localhost:8080/",
          "height": 34
        }
      },
      "source": [
        "# Os dicionário trabalham como se fosse chave e valor.\n",
        "# Para cada item, teremos um valor atrelado.\n",
        "\n",
        "contatos = {\"Nome\":\"Mauricio\", \"Número\":\"(11) 9 8748-2536\"}\n",
        "\n",
        "print(contatos[\"Nome\"],contatos[\"Número\"])"
      ],
      "execution_count": null,
      "outputs": [
        {
          "output_type": "stream",
          "text": [
            "Mauricio (11) 9 8748-2536\n"
          ],
          "name": "stdout"
        }
      ]
    },
    {
      "cell_type": "code",
      "metadata": {
        "id": "Q8_3Qj5U4jSu"
      },
      "source": [
        ""
      ],
      "execution_count": null,
      "outputs": []
    }
  ]
}