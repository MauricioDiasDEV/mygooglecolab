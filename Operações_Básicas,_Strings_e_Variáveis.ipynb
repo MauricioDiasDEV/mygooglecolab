{
  "nbformat": 4,
  "nbformat_minor": 0,
  "metadata": {
    "colab": {
      "name": "Operações Básicas, Strings e Variáveis",
      "provenance": [],
      "collapsed_sections": [],
      "authorship_tag": "ABX9TyND4PMeadaGOy/Y+nT6a1Ol",
      "include_colab_link": true
    },
    "kernelspec": {
      "name": "python3",
      "display_name": "Python 3"
    }
  },
  "cells": [
    {
      "cell_type": "markdown",
      "metadata": {
        "id": "view-in-github",
        "colab_type": "text"
      },
      "source": [
        "<a href=\"https://colab.research.google.com/github/MauricioDiasDEV/mygooglecolab/blob/main/Opera%C3%A7%C3%B5es_B%C3%A1sicas%2C_Strings_e_Vari%C3%A1veis.ipynb\" target=\"_parent\"><img src=\"https://colab.research.google.com/assets/colab-badge.svg\" alt=\"Open In Colab\"/></a>"
      ]
    },
    {
      "cell_type": "markdown",
      "metadata": {
        "id": "o3GFK1KtqWZQ"
      },
      "source": [
        "\n",
        "***Trabalhando com operações básicas, strings e variáveis***\n",
        "\n",
        "---\n",
        "\n",
        "\n",
        "\n"
      ]
    },
    {
      "cell_type": "code",
      "metadata": {
        "id": "1BccEt-SqYI2"
      },
      "source": [
        "# Criando as variáveis\n",
        "# a = 2 , lê-se: a recebe 2\n",
        "\n",
        "a = 2\n",
        "b = 10\n",
        "\n",
        "c = a + b\n"
      ],
      "execution_count": null,
      "outputs": []
    },
    {
      "cell_type": "code",
      "metadata": {
        "id": "H-PcuraRq5iU",
        "outputId": "78ec44ed-7ad2-4b15-d637-6fa684a24cdb",
        "colab": {
          "base_uri": "https://localhost:8080/",
          "height": 34
        }
      },
      "source": [
        "# Exibindo o resultado de c\n",
        "\n",
        "c"
      ],
      "execution_count": null,
      "outputs": [
        {
          "output_type": "execute_result",
          "data": {
            "text/plain": [
              "12"
            ]
          },
          "metadata": {
            "tags": []
          },
          "execution_count": 2
        }
      ]
    },
    {
      "cell_type": "code",
      "metadata": {
        "id": "kQW0yMEHrCn-",
        "outputId": "741d7dfa-d308-4adf-907c-8d7b6737872d",
        "colab": {
          "base_uri": "https://localhost:8080/",
          "height": 85
        }
      },
      "source": [
        "# Trabalhando com as operações matemáticas\n",
        "# Criaremos outras variáveis para as diversas operações.\n",
        "# Conhecendo o método print(), que serve para mostrar nossos resultados em tela\n",
        "\n",
        "soma = a + b\n",
        "subtracao = a - b\n",
        "multiplicacao = a * b\n",
        "divisao = a / b\n",
        "\n",
        "print(soma)\n",
        "print(subtracao)\n",
        "print(multiplicacao)\n",
        "print(divisao)\n"
      ],
      "execution_count": null,
      "outputs": [
        {
          "output_type": "stream",
          "text": [
            "12\n",
            "-8\n",
            "20\n",
            "0.2\n"
          ],
          "name": "stdout"
        }
      ]
    },
    {
      "cell_type": "code",
      "metadata": {
        "id": "DHVShcv1rdtK",
        "outputId": "ee2f712a-0047-403b-cf27-b9f563d8127e",
        "colab": {
          "base_uri": "https://localhost:8080/",
          "height": 34
        }
      },
      "source": [
        "# Temos também o resto da divisão: %\n",
        "# Serve para nos apresentar o resto de uma divisão se é 0 ou se é 1\n",
        "\n",
        "restoDaDivisao = b % a\n",
        "\n",
        "print(restoDaDivisao)"
      ],
      "execution_count": null,
      "outputs": [
        {
          "output_type": "stream",
          "text": [
            "0\n"
          ],
          "name": "stdout"
        }
      ]
    },
    {
      "cell_type": "code",
      "metadata": {
        "id": "LwvvUX_WsIki",
        "outputId": "812426c8-114a-4632-b217-8fd26932071e",
        "colab": {
          "base_uri": "https://localhost:8080/",
          "height": 34
        }
      },
      "source": [
        "# As variáveis servem para armazenar espaços na memórias, para que seja possível utilizá-los sempre que necessário\n",
        "# Podemos salvar um nome por exemplo:\n",
        "\n",
        "nome = 'Mauricio'\n",
        "print(nome)"
      ],
      "execution_count": null,
      "outputs": [
        {
          "output_type": "stream",
          "text": [
            "Mauricio\n"
          ],
          "name": "stdout"
        }
      ]
    },
    {
      "cell_type": "code",
      "metadata": {
        "id": "nFTG0mZpsi4h",
        "outputId": "f705affd-6f20-47db-dc7f-d808a2ad011c",
        "colab": {
          "base_uri": "https://localhost:8080/",
          "height": 34
        }
      },
      "source": [
        "# Depois mudar o conteúdo desta variável\n",
        "# Como exemplo:\n",
        "\n",
        "nome = 'Edite'\n",
        "print(nome)"
      ],
      "execution_count": null,
      "outputs": [
        {
          "output_type": "stream",
          "text": [
            "Edite\n"
          ],
          "name": "stdout"
        }
      ]
    },
    {
      "cell_type": "code",
      "metadata": {
        "id": "67MeXYzzsrTU",
        "outputId": "e7ec2223-7ce7-447a-8da4-7f56fe8ec66f",
        "colab": {
          "base_uri": "https://localhost:8080/",
          "height": 34
        }
      },
      "source": [
        "# Podemos trabalhar com strings.\n",
        "# Uma string é uma sequência de caracteres\n",
        "\n",
        "frase = 'Quem cedo madruga, pega peixe'\n",
        "\n",
        "print(frase)"
      ],
      "execution_count": null,
      "outputs": [
        {
          "output_type": "stream",
          "text": [
            "Quem cedo madruga, pega peixe\n"
          ],
          "name": "stdout"
        }
      ]
    },
    {
      "cell_type": "code",
      "metadata": {
        "id": "lCSlEhwjsvqt",
        "outputId": "868c7f13-e1d2-439f-9c62-34c9dd315289",
        "colab": {
          "base_uri": "https://localhost:8080/",
          "height": 34
        }
      },
      "source": [
        "# podemos utilizar o método split para \"dividir\" essa string e manipulá-la.\n",
        "# Por exemplo tirando algum \"pedaço\" da string\n",
        "\n",
        "frase.split(\"madruga\")"
      ],
      "execution_count": null,
      "outputs": [
        {
          "output_type": "execute_result",
          "data": {
            "text/plain": [
              "['Quem cedo ', ', pega peixe']"
            ]
          },
          "metadata": {
            "tags": []
          },
          "execution_count": 18
        }
      ]
    },
    {
      "cell_type": "code",
      "metadata": {
        "id": "u_o9lkk8tr1o",
        "outputId": "1541d57f-3f3c-4441-9782-07dc4faa0745",
        "colab": {
          "base_uri": "https://localhost:8080/",
          "height": 51
        }
      },
      "source": [
        "# Podemos trabahar a string com cada valor independente\n",
        "# Apresentar cada posição da string\n",
        "# Ou ainda um intervalo\n",
        "\n",
        "posicao = frase[0]\n",
        "intervaloDePosicao = frase[0:13]\n",
        "\n",
        "print(posicao)\n",
        "print(intervaloDePosicao)"
      ],
      "execution_count": null,
      "outputs": [
        {
          "output_type": "stream",
          "text": [
            "Q\n",
            "Quem cedo mad\n"
          ],
          "name": "stdout"
        }
      ]
    },
    {
      "cell_type": "code",
      "metadata": {
        "id": "KFhTjdnRtvoG",
        "outputId": "146381e4-eba8-42ad-ab23-ab6e816d95c6",
        "colab": {
          "base_uri": "https://localhost:8080/",
          "height": 68
        }
      },
      "source": [
        "# Podemos trabalhar com o método type\n",
        "# Este serve para nos apresentar o tipo de dados que temos\n",
        "# Númerico, Texto, Lógico\n",
        "\n",
        "idade = 16\n",
        "print(type(idade))\n",
        "nome = 'Mauricio'\n",
        "print(type(nome))\n",
        "resultado = 2 > 5\n",
        "print(type(resultado))\n",
        "\n"
      ],
      "execution_count": null,
      "outputs": [
        {
          "output_type": "stream",
          "text": [
            "<class 'int'>\n",
            "<class 'str'>\n",
            "<class 'bool'>\n"
          ],
          "name": "stdout"
        }
      ]
    },
    {
      "cell_type": "code",
      "metadata": {
        "id": "X2opX3VZvUry"
      },
      "source": [
        ""
      ],
      "execution_count": null,
      "outputs": []
    }
  ]
}