{
  "nbformat": 4,
  "nbformat_minor": 0,
  "metadata": {
    "colab": {
      "name": "Booleanos, If and Else.ipynb",
      "provenance": [],
      "authorship_tag": "ABX9TyOIMt6H7zkBV2/uqKLCdGGS",
      "include_colab_link": true
    },
    "kernelspec": {
      "name": "python3",
      "display_name": "Python 3"
    }
  },
  "cells": [
    {
      "cell_type": "markdown",
      "metadata": {
        "id": "view-in-github",
        "colab_type": "text"
      },
      "source": [
        "<a href=\"https://colab.research.google.com/github/MauricioDiasDEV/mygooglecolab/blob/main/Booleanos%2C_If_and_Else.ipynb\" target=\"_parent\"><img src=\"https://colab.research.google.com/assets/colab-badge.svg\" alt=\"Open In Colab\"/></a>"
      ]
    },
    {
      "cell_type": "markdown",
      "metadata": {
        "id": "NuApm9JfHhUe"
      },
      "source": [
        "# ***Trabalhando com operadores lógicos, ou booleanos, if e else.***"
      ]
    },
    {
      "cell_type": "markdown",
      "metadata": {
        "id": "yhHoUr-DH1aH"
      },
      "source": [
        "***Os Booleanos***"
      ]
    },
    {
      "cell_type": "code",
      "metadata": {
        "id": "0HwIKCFfH4yM",
        "outputId": "dc689176-4925-4472-a846-30e1dfafe66e",
        "colab": {
          "base_uri": "https://localhost:8080/",
          "height": 51
        }
      },
      "source": [
        "# Operadores booleanos indicam valores lógicos: verdadeiros ou falsos.\n",
        "# Sendo podemos comparar algumas situações e dizer se são verdadeiras ou não.\n",
        "# Como exemplo, comparar se 1 é maior de 2.\n",
        "\n",
        "\n",
        "a = 1\n",
        "b = 2\n",
        "\n",
        "print(a > b)\n",
        "print(b > a)"
      ],
      "execution_count": null,
      "outputs": [
        {
          "output_type": "stream",
          "text": [
            "False\n",
            "True\n"
          ],
          "name": "stdout"
        }
      ]
    },
    {
      "cell_type": "code",
      "metadata": {
        "id": "w0tAwf7nITUy"
      },
      "source": [
        "# Temos alguns operadores relacionais que nos ajudam com os booleanos.\n",
        "# Os relacionais podem ser:\n",
        "\n",
        "a == b # Igual\n",
        "a > b # Maior\n",
        "a >= b # Maior ou igual\n",
        "a < b # Menor\n",
        "a <= b # Menor igual\n",
        "a != b # Diferente\n",
        "\n"
      ],
      "execution_count": null,
      "outputs": []
    },
    {
      "cell_type": "code",
      "metadata": {
        "id": "EpPcQY_FJn76",
        "outputId": "63db5e73-2297-487d-ffd9-162e4a04c3b4",
        "colab": {
          "base_uri": "https://localhost:8080/",
          "height": 68
        }
      },
      "source": [
        "# Os operadores lógicos são: And, Or e Not\n",
        "# Juntamente com os valores relacionais podemos criar algumas condições e expressões\n",
        "# O operador and retorna verdadeiro quando todas as condições sao verdadeiras\n",
        "# O operador or retorna verdadeiro quando pelo menos uma condição é verdadeira\n",
        "# O operador not inverte o valor atual\n",
        "\n",
        "\n",
        "print((a == a) and ( a >= b)) # Aqui as duas teriam que ser verdadeiras\n",
        "print((a == a) or ( a >= b)) # Aqui pelo menos uma é verdadeira\n",
        "print(not((a == a) and ( a >= b))) # Aqui ele inverte o valor que era falso"
      ],
      "execution_count": null,
      "outputs": [
        {
          "output_type": "stream",
          "text": [
            "False\n",
            "True\n",
            "True\n"
          ],
          "name": "stdout"
        }
      ]
    },
    {
      "cell_type": "markdown",
      "metadata": {
        "id": "PKypOXo4NPcA"
      },
      "source": [
        "# ***If e Else***"
      ]
    },
    {
      "cell_type": "code",
      "metadata": {
        "id": "9VIFDqX_NbbO",
        "outputId": "84712470-eb93-4e28-da9f-fd66dc6ade67",
        "colab": {
          "base_uri": "https://localhost:8080/",
          "height": 34
        }
      },
      "source": [
        "# If e else são estruturas que nos permite criar condições, ou situações para tomada de decisões.\n",
        "# Podemos várias condições para resolução de um problema.\n",
        "\n",
        "# abaixo um script simples para demonstrar alguns termos usados. Inclusive o If Else\n",
        "\n",
        "nota1 = 9\n",
        "nota2 = 7\n",
        "nota3 = 10\n",
        "nota4 = 1\n",
        "\n",
        "media = (nota1 + nota2 + nota3 + nota4) / 4\n",
        "\n",
        "if media >= 7:\n",
        "  print(\"Aluno aprovado\")\n",
        "else:\n",
        "  print(\"Aluno reprovado\")"
      ],
      "execution_count": null,
      "outputs": [
        {
          "output_type": "stream",
          "text": [
            "Aluno reprovado\n"
          ],
          "name": "stdout"
        }
      ]
    },
    {
      "cell_type": "code",
      "metadata": {
        "id": "IrxzW795Oa0M"
      },
      "source": [
        ""
      ],
      "execution_count": null,
      "outputs": []
    }
  ]
}